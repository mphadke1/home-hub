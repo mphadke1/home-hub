{
 "cells": [
  {
   "cell_type": "code",
   "execution_count": 2,
   "metadata": {},
   "outputs": [],
   "source": [
    "import re\n",
    "import os\n",
    "import csv\n",
    "from surprise import BaselineOnly\n",
    "from surprise import Dataset\n",
    "from surprise import Reader\n",
    "from surprise import SVD\n",
    "from surprise import accuracy\n",
    "from surprise.model_selection import cross_validate\n",
    "from surprise.model_selection import train_test_split\n",
    "from collections import defaultdict"
   ]
  },
  {
   "cell_type": "code",
   "execution_count": 2,
   "metadata": {},
   "outputs": [
    {
     "data": {
      "text/plain": [
       "0"
      ]
     },
     "execution_count": 2,
     "metadata": {},
     "output_type": "execute_result"
    }
   ],
   "source": [
    "from random import randrange\n",
    "pr_file_path=\"C:\\\\apache-tomcat-7.0.34\\\\webapps\\\\assignment5\"\n",
    "os.chdir('C:\\\\Program Files\\\\MongoDB\\\\Server\\\\3.2\\\\bin')\n",
    "\n",
    "out = open(pr_file_path+'/sample_data.csv', 'w',newline='')\n",
    "output = csv.writer(out)\n",
    "\n",
    "productList = ['Sony - 55 inch Class','Microsoft TV','Sony - 77 inch Class','Samsung - 55 inch Class','Samsung Smart TV 50\"','JBL Bar 5.1','Bose Surround Speakers 700','JBL Cinema 610','Denon Home Theater Soundbar','Bose Solo 5','Samsung Galaxy S20','OnePlus 8','Google Pixel 3a','Google Pixel 4 XL','Samsung Galaxy S10','HP Chromebook 14','HP Stream','Lenovo IdeaPad 3','ASUS Chromebook Laptop','Lenovo T460s','Toshiba 49\" Class LED TV','HP 14\" Touch Screen Laptop','Lenovo Yoga 730 2 in 1 15.6\" Touch Screen Laptop','Samsung Harmon Kardon 7.1.4 Channel Soundbar']\n",
    "output.writerow(['userName','productName','reviewRating'])\n",
    "for i in range(10):\n",
    "    output.writerow([\"customer\" + str(randrange(1,10)), productList[randrange(len(productList))], randrange(1,5)])\n",
    "out.close()\n",
    "\n",
    "os.system(r'mongoimport --db Assignment2CustomerReviews --collection myReviews --type=csv --headerline --drop '+pr_file_path+'\\sample_data.csv')\n",
    "\n",
    "\n"
   ]
  },
  {
   "cell_type": "code",
   "execution_count": 4,
   "metadata": {
    "scrolled": true
   },
   "outputs": [
    {
     "name": "stdout",
     "output_type": "stream",
     "text": [
      "customer6 ['\"Toshiba 49\"\" Class LED TV\"', 'Denon Home Theater Soundbar', 'Lenovo IdeaPad 3', '\"HP 14\"\" Touch Screen Laptop\"']\n",
      "customer4 ['\"HP 14\"\" Touch Screen Laptop\"', 'Denon Home Theater Soundbar', 'Google Pixel 4 XL', 'ASUS Chromebook Laptop']\n",
      "customer8 ['Denon Home Theater Soundbar', 'Lenovo IdeaPad 3', 'Google Pixel 4 XL', 'ASUS Chromebook Laptop']\n",
      "customer3 ['\"Toshiba 49\"\" Class LED TV\"', 'Google Pixel 4 XL', 'Lenovo IdeaPad 3', '\"HP 14\"\" Touch Screen Laptop\"']\n",
      "customer1 ['\"Toshiba 49\"\" Class LED TV\"', 'Denon Home Theater Soundbar', 'Google Pixel 4 XL', 'Lenovo IdeaPad 3']\n",
      "customer7 ['\"HP 14\"\" Touch Screen Laptop\"', 'Denon Home Theater Soundbar', '\"Toshiba 49\"\" Class LED TV\"', 'Lenovo IdeaPad 3']\n"
     ]
    }
   ],
   "source": [
    "pr_file_path=\"C:\\\\apache-tomcat-7.0.34\\\\webapps\\\\assignment5\"\n",
    "os.chdir('C:\\\\Program Files\\\\MongoDB\\\\Server\\\\3.2\\\\bin')\n",
    "os.system(r'mongoexport --db Assignment2CustomerReviews --collection myReviews --type=csv --fields userName,productName,reviewRating >'+pr_file_path+'\\mongodata_train.csv')\n",
    "\n",
    "with open(pr_file_path+\"/mongodata_train.csv\", \"r\") as f:\n",
    "    reader = csv.DictReader(f, delimiter=',')\n",
    "    with open(pr_file_path+\"/mongodata_test.csv\", \"w\",newline='') as f_out:\n",
    "        writer = csv.DictWriter(f_out, fieldnames=reader.fieldnames, delimiter=\",\")\n",
    "        for row in reader:\n",
    "            writer.writerow(row)\n",
    "            \n",
    "file_path = os.path.expanduser(pr_file_path+'/mongodata_test.csv')\n",
    "\n",
    "# As we're loading a custom dataset, we need to define a reader. In the\n",
    "# movielens-100k dataset, each line has the following format:\n",
    "# 'user item rating timestamp', separated by '\\t' characters.\n",
    "reader = Reader(line_format='user item rating', sep=',', skip_lines=1)\n",
    "\n",
    "#data = Dataset.load_from_file(file_path, reader=reader)\n",
    "\n",
    "def get_top_n(predictions, n=10):\n",
    "    '''Return the top-N recommendation for each user from a set of predictions.\n",
    "\n",
    "    Args:\n",
    "        predictions(list of Prediction objects): The list of predictions, as\n",
    "            returned by the test method of an algorithm.\n",
    "        n(int): The number of recommendation to output for each user. Default\n",
    "            is 10.\n",
    "\n",
    "    Returns:\n",
    "    A dict where keys are user (raw) ids and values are lists of tuples:\n",
    "        [(raw item id, rating estimation), ...] of size n.\n",
    "    '''\n",
    "\n",
    "    # First map the predictions to each user.\n",
    "    top_n = defaultdict(list)\n",
    "    for uid, iid, true_r, est, _ in predictions:\n",
    "        top_n[uid].append((iid, est))\n",
    "\n",
    "    # Then sort the predictions for each user and retrieve the k highest ones.\n",
    "    for uid, user_ratings in top_n.items():\n",
    "        user_ratings.sort(key=lambda x: x[1], reverse=True)\n",
    "        top_n[uid] = user_ratings[:n]\n",
    "\n",
    "    return top_n\n",
    "\n",
    "# First train an SVD algorithm on the movielens dataset.\n",
    "data = Dataset.load_from_file(file_path, reader=reader)\n",
    "trainset = data.build_full_trainset()\n",
    "algo = SVD()\n",
    "algo.fit(trainset)\n",
    "\n",
    "# Than predict ratings for all pairs (u, i) that are NOT in the training set.\n",
    "testset = trainset.build_anti_testset()\n",
    "predictions = algo.test(testset)\n",
    "\n",
    "top_n = get_top_n(predictions, n=4)\n",
    "\n",
    "# Print the recommended items for each user\n",
    "for uid, user_ratings in top_n.items():\n",
    "    print(uid, [iid for (iid, _) in user_ratings])\n",
    "    \n",
    "out = open(pr_file_path+'/output.csv', 'w',newline='')\n",
    "output=csv.writer(out)\n",
    "\n",
    "for uid, user_ratings in top_n.items():\n",
    "    output.writerow([uid, [iid for (iid, _) in user_ratings]])\n",
    "    \n",
    "out.close()\n"
   ]
  },
  {
   "cell_type": "code",
   "execution_count": null,
   "metadata": {},
   "outputs": [],
   "source": []
  }
 ],
 "metadata": {
  "anaconda-cloud": {},
  "kernelspec": {
   "display_name": "Python 3",
   "language": "python",
   "name": "python3"
  },
  "language_info": {
   "codemirror_mode": {
    "name": "ipython",
    "version": 3
   },
   "file_extension": ".py",
   "mimetype": "text/x-python",
   "name": "python",
   "nbconvert_exporter": "python",
   "pygments_lexer": "ipython3",
   "version": "3.8.3"
  }
 },
 "nbformat": 4,
 "nbformat_minor": 1
}
